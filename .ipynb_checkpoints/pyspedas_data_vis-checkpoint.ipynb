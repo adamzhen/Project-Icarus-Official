{
 "cells": [
  {
   "cell_type": "markdown",
   "id": "88436169",
   "metadata": {},
   "source": [
    "# Visualizing PSP Data Using pySPEDAS"
   ]
  },
  {
   "cell_type": "markdown",
   "id": "ad117c2c",
   "metadata": {},
   "source": [
    "#### Documentation\n",
    "- https://pyspedas.readthedocs.io/en/latest/psp.html\n",
    "- http://sweap.cfa.harvard.edu/sweap_data_user_guide.pdf"
   ]
  },
  {
   "cell_type": "code",
   "execution_count": null,
   "id": "aa0d1b92",
   "metadata": {},
   "outputs": [
    {
     "name": "stderr",
     "output_type": "stream",
     "text": [
      "19-Dec-22 14:36:21: Downloading remote index: https://spdf.gsfc.nasa.gov/pub/data/psp/sweap/spc/l3/l3i/2021/\n",
      "19-Dec-22 14:36:21: File is current: psp_data/sweap/spc/l3/l3i/2021/psp_swp_spc_l3i_20210424_v02.cdf\n"
     ]
    },
    {
     "name": "stdout",
     "output_type": "stream",
     "text": [
      "79 days\n",
      "Using LEVEL=L3\n"
     ]
    },
    {
     "name": "stderr",
     "output_type": "stream",
     "text": [
      "19-Dec-22 14:36:21: File is current: psp_data/sweap/spc/l3/l3i/2021/psp_swp_spc_l3i_20210425_v02.cdf\n",
      "19-Dec-22 14:36:21: File is current: psp_data/sweap/spc/l3/l3i/2021/psp_swp_spc_l3i_20210426_v02.cdf\n",
      "19-Dec-22 14:36:21: File is current: psp_data/sweap/spc/l3/l3i/2021/psp_swp_spc_l3i_20210427_v02.cdf\n",
      "19-Dec-22 14:36:22: File is current: psp_data/sweap/spc/l3/l3i/2021/psp_swp_spc_l3i_20210428_v02.cdf\n",
      "19-Dec-22 14:36:22: File is current: psp_data/sweap/spc/l3/l3i/2021/psp_swp_spc_l3i_20210429_v02.cdf\n",
      "19-Dec-22 14:36:22: File is current: psp_data/sweap/spc/l3/l3i/2021/psp_swp_spc_l3i_20210430_v02.cdf\n",
      "19-Dec-22 14:36:22: File is current: psp_data/sweap/spc/l3/l3i/2021/psp_swp_spc_l3i_20210501_v02.cdf\n",
      "19-Dec-22 14:36:22: File is current: psp_data/sweap/spc/l3/l3i/2021/psp_swp_spc_l3i_20210502_v02.cdf\n",
      "19-Dec-22 14:36:22: File is current: psp_data/sweap/spc/l3/l3i/2021/psp_swp_spc_l3i_20210503_v02.cdf\n"
     ]
    }
   ],
   "source": [
    "import numpy as np\n",
    "from matplotlib import pyplot as plt\n",
    "import pandas as pd\n",
    "import math\n",
    "from datetime import datetime\n",
    "import pyspedas\n",
    "from pytplot import tplot\n",
    "\n",
    "# datetime testing\n",
    "start = datetime(2022, 10, 1)\n",
    "today = datetime.now()\n",
    "print(f\"{(today - start).days} days\")\n",
    "\n",
    "spc_vars = pyspedas.psp.spc(trange=['2021-04-24', '2021-05-04'], datatype='l3i', level='l3', get_support_data=True, notplot=True, no_update=False)\n",
    "t = spc_vars['psp_spc_vp_moment_RTN']['x']\n",
    "v = spc_vars['psp_spc_vp_moment_RTN']['y']\n",
    "vdata = pd.DataFrame(v)\n",
    "velocities = []\n",
    "for row in v:\n",
    "    total = 0\n",
    "    for dir in row:\n",
    "        if np.isnan(dir):\n",
    "            continue\n",
    "        total += dir**2\n",
    "    total = math.sqrt(total)\n",
    "    if total==0:\n",
    "        total = row[0]\n",
    "    velocities.append(total)\n",
    "velocityplot = plt.scatter(t, np.array(velocities), s=3)\n",
    "plt.ylabel(\"Velocity of protons (km/s)\")\n",
    "tplot(['psp_spc_np_fit', 'psp_spc_np_moment'])\n",
    "tplot(['psp_spc_vp_moment_RTN', 'psp_spc_vp_fit_RTN'])"
   ]
  },
  {
   "cell_type": "code",
   "execution_count": null,
   "id": "5cc7e425",
   "metadata": {},
   "outputs": [],
   "source": []
  }
 ],
 "metadata": {
  "kernelspec": {
   "display_name": "Python 3 (ipykernel)",
   "language": "python",
   "name": "python3"
  },
  "language_info": {
   "codemirror_mode": {
    "name": "ipython",
    "version": 3
   },
   "file_extension": ".py",
   "mimetype": "text/x-python",
   "name": "python",
   "nbconvert_exporter": "python",
   "pygments_lexer": "ipython3",
   "version": "3.9.7"
  }
 },
 "nbformat": 4,
 "nbformat_minor": 5
}
