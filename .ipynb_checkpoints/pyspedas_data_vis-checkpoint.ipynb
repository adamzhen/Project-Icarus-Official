{
 "cells": [
  {
   "cell_type": "markdown",
   "id": "88436169",
   "metadata": {},
   "source": [
    "# Visualizing PSP Data Using pySPEDAS"
   ]
  },
  {
   "cell_type": "code",
   "execution_count": null,
   "id": "950687aa",
   "metadata": {},
   "outputs": [],
   "source": [
    "import pyspedas\n",
    "from pytplot import tplot\n",
    "spc_vars = pyspedas.psp.spc(trange=['2022-03-01', '2022-03-03'], datatype='l3i', level='l3')\n",
    "print(spc_vars)\n",
    "tplot(['psp_spc_np_fit', 'psp_spc_vp_fit_RTN'])"
   ]
  }
 ],
 "metadata": {
  "kernelspec": {
   "display_name": "Python 3 (ipykernel)",
   "language": "python",
   "name": "python3"
  },
  "language_info": {
   "codemirror_mode": {
    "name": "ipython",
    "version": 3
   },
   "file_extension": ".py",
   "mimetype": "text/x-python",
   "name": "python",
   "nbconvert_exporter": "python",
   "pygments_lexer": "ipython3",
   "version": "3.9.7"
  }
 },
 "nbformat": 4,
 "nbformat_minor": 5
}
