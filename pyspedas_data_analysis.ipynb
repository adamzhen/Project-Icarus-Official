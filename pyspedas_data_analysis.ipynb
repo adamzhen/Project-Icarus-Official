{
 "cells": [
  {
   "cell_type": "markdown",
   "id": "88436169",
   "metadata": {},
   "source": [
    "# Analyzing & Extracting PSP Data Using pySPEDAS\n",
    "###### Docs: https://pyspedas.readthedocs.io/en/latest/psp.html"
   ]
  },
  {
   "cell_type": "markdown",
   "id": "0a8bb811",
   "metadata": {},
   "source": [
    "In this Jupyter Notebook, I used pySPEDAS to help me visualize and analyze PSP data, in order to choose what data I wanted to export for my website displays. Then I used it to export that data into text files, which I processed into JavaScript lists that I could incorporate directly. The data here is for 2 (eventually will be 3) of the 4 PSP instruments: SWEAP, FIELDS, and eventually ISOIS."
   ]
  },
  {
   "cell_type": "code",
   "execution_count": null,
   "id": "d845dbf2",
   "metadata": {},
   "outputs": [],
   "source": [
    "# Change this when updating data to the most recent orbits\n",
    "STARTORBITS = 13\n",
    "NUMORBITS = 14\n",
    "\n",
    "orbit_dates = [\n",
    "['2018-11-01', '2018-11-11'],\n",
    "['2019-03-30', '2019-04-10'],\n",
    "['2019-08-27', '2019-09-07'],\n",
    "['2020-01-23', '2020-02-04'],\n",
    "['2020-06-01', '2020-06-13'],\n",
    "['2020-09-21', '2020-10-02'],\n",
    "['2021-01-12', '2021-01-23'],\n",
    "['2021-04-24', '2021-05-04'],\n",
    "['2021-08-04', '2021-08-15'],\n",
    "['2021-11-16', '2021-11-26'],\n",
    "['2022-02-20', '2022-03-02'],\n",
    "['2022-05-27', '2022-06-07'],\n",
    "['2022-09-01', '2022-09-11'], \n",
    "['2022-12-06', '2022-12-16'], \n",
    "['2023-03-12', '2023-03-23']\n",
    "]"
   ]
  },
  {
   "cell_type": "markdown",
   "id": "96d217f5",
   "metadata": {},
   "source": [
    "# SWEAP\n",
    "- This section consists of data for the 3 different components of SWEAP: SPC, SPAN-e, and SPAN-i \n",
    "- Data Reference: http://sweap.cfa.harvard.edu/sweap_data_user_guide.pdf"
   ]
  },
  {
   "cell_type": "markdown",
   "id": "cbca7646",
   "metadata": {},
   "source": [
    "## Solar Probe Cup (SPC)"
   ]
  },
  {
   "cell_type": "markdown",
   "id": "b66c1d35",
   "metadata": {},
   "source": [
    "#### Velocity"
   ]
  },
  {
   "cell_type": "code",
   "execution_count": null,
   "id": "e9ef13ad",
   "metadata": {
    "scrolled": true
   },
   "outputs": [],
   "source": [
    "import numpy as np\n",
    "from matplotlib import pyplot as plt\n",
    "import math\n",
    "import pyspedas\n",
    "from pytplot import tplot\n",
    "spc_vars_tplot = pyspedas.psp.spc(trange=['2021-04-24', '2021-04-30'], datatype='l3i', level='l3', get_support_data=True, notplot=False, no_update=False)\n",
    "print(spc_vars_tplot)\n",
    "tplot(['psp_spc_vp_moment_RTN_deltalow', 'psp_spc_vp_moment_RTN_deltahigh', 'psp_spc_vp_fit_RTN_uncertainty'])\n",
    "tplot(['psp_spc_vp_moment_RTN','psp_spc_vp_fit_RTN'])\n",
    "tplot(['psp_spc_vp_moment_SC','psp_spc_vp_fit_SC'])"
   ]
  },
  {
   "cell_type": "code",
   "execution_count": null,
   "id": "46e565da",
   "metadata": {
    "scrolled": true
   },
   "outputs": [],
   "source": [
    "import numpy as np\n",
    "from matplotlib import pyplot as plt\n",
    "import math\n",
    "import pyspedas\n",
    "from pytplot import tplot\n",
    "spc_vars_tplot = pyspedas.psp.spc(trange=['2020-01-23', '2020-02-04'], datatype='l3i', level='l3', get_support_data=True, notplot=False, no_update=False)\n",
    "print(spc_vars_tplot)\n",
    "tplot(['psp_spc_va_fit_RTN', 'psp_spc_va_fit_RTN_uncertainty'])\n",
    "tplot(['psp_spc_na_fit','psp_spc_na_fit_uncertainty'])\n",
    "tplot(['psp_spc_wa_fit', 'psp_spc_wa_fit_uncertainty'])"
   ]
  },
  {
   "cell_type": "markdown",
   "id": "4ee76e5e",
   "metadata": {},
   "source": [
    "The first thing I noticed was how there are huge spikes in the vp_fit data compared to vp_moment, which seems like it might be anomalous (my analysis of the wp data below suggests that this could indeed be the case, and so I ended deciding to use moment, not fit, data). The difference between RTN and SC is just the reference frame for the coordinate system, and they give pretty much the same velocities (albeit in slightly different reference frames), so I don't think it matters that much which one I use. In the end, I went with the vp_moment_RTN to process and incorporate into the website."
   ]
  },
  {
   "cell_type": "code",
   "execution_count": null,
   "id": "aa0d1b92",
   "metadata": {
    "scrolled": false
   },
   "outputs": [],
   "source": [
    "import numpy as np\n",
    "from matplotlib import pyplot as plt\n",
    "import math\n",
    "import pyspedas\n",
    "from pytplot import tplot\n",
    "\n",
    "spc_vars = pyspedas.psp.spc(trange=['2021-04-24', '2021-05-04'], datatype='l3i', level='l3', get_support_data=True, notplot=True, no_update=False)\n",
    "t1 = spc_vars['psp_spc_vp_moment_RTN']['x']\n",
    "v1 = spc_vars['psp_spc_vp_moment_RTN']['y']\n",
    "# t2 = spc_vars['psp_spc_vp_fit_RTN']['x']\n",
    "# v2 = spc_vars['psp_spc_vp_fit_RTN']['y']\n",
    "velocities1 = []\n",
    "for row in v1:\n",
    "    total = 0\n",
    "    for dir in row:\n",
    "        if np.isnan(dir):\n",
    "            continue\n",
    "        total += dir**2\n",
    "    total = math.sqrt(total)\n",
    "    if total==0:\n",
    "        total = row[0]\n",
    "    velocities1.append(total)\n",
    "fig1, ax1 = plt.subplots(figsize=(12, 4))\n",
    "ax1.scatter(t1, np.array(velocities1), label=\"vp_moment\", s=1, alpha=0.5)\n",
    "ax1.set_ylabel(\"Velocity of protons (km/s)\")\n",
    "ax1.legend()"
   ]
  },
  {
   "cell_type": "code",
   "execution_count": null,
   "id": "d8e440e3",
   "metadata": {},
   "outputs": [],
   "source": [
    "spcvelocitydata = pd.DataFrame(np.array(velocities1))\n",
    "print(f'Percent NaN: {spcvelocitydata.isna().sum().sum() / spcvelocitydata.size * 100:.3f}%')\n",
    "spcvelocitydata.head()"
   ]
  },
  {
   "cell_type": "markdown",
   "id": "17f2e792",
   "metadata": {},
   "source": [
    "#### Density"
   ]
  },
  {
   "cell_type": "code",
   "execution_count": null,
   "id": "a1e3a3a6",
   "metadata": {
    "scrolled": false
   },
   "outputs": [],
   "source": [
    "print(spc_vars)\n",
    "tplot(['psp_spc_np_moment_deltalow', 'psp_spc_np_moment_deltahigh', 'psp_spc_np_fit_uncertainty'])\n",
    "tplot(['psp_spc_np_moment','psp_spc_np_fit'])"
   ]
  },
  {
   "cell_type": "markdown",
   "id": "42cf30a4",
   "metadata": {},
   "source": [
    "There doesn't seem to be any huge discrepencies between the np_moment and np_fit data, although the fit data is significantly higher just before April 28. So I'm just going to use np_moment to make it consistent across these data sets."
   ]
  },
  {
   "cell_type": "code",
   "execution_count": null,
   "id": "29df58b6",
   "metadata": {},
   "outputs": [],
   "source": [
    "densitydata = pd.DataFrame(spc_vars['psp_spc_np_moment']['y'])\n",
    "print(f'Percent NaN: {densitydata.isna().sum().sum() / densitydata.size * 100:.3f}%')\n",
    "densitydata.head()"
   ]
  },
  {
   "cell_type": "markdown",
   "id": "f6f65f56",
   "metadata": {},
   "source": [
    "#### Temperature"
   ]
  },
  {
   "cell_type": "code",
   "execution_count": null,
   "id": "b9959e61",
   "metadata": {},
   "outputs": [],
   "source": [
    "tplot(['psp_spc_wp_moment_deltalow', 'psp_spc_wp_moment_deltahigh', 'psp_spc_wp_fit_uncertainty'])\n",
    "tplot(['psp_spc_wp_moment','psp_spc_wp_fit'])"
   ]
  },
  {
   "cell_type": "markdown",
   "id": "41da2b6c",
   "metadata": {},
   "source": [
    "In a similar fashion to the velocity data, this thermal speed data also had huge spikes in the wp_fit graph (up to 1000 km/s), whereas the wp_moment graph stayed relatively consistent within 20-200 km/s. So I used T = (mv^2)/2k to calculate example temperatures: 150 km/s turned out to be around 1.36 million Kelvin, which is reasonably accurate to the actual temperature of the corona (and the PSP is indeed inside the corona at this time), but 1000 km/s was a whopping 60.57 million Kelvin, which I think is likely some sort of error as that is way hotter than even the sun's core (15 million Kelvin). As a result, I decided that it'd be better to use the moment data across the board (instead of fit), also taking into consideration this important note from the SWEAP user guide."
   ]
  },
  {
   "attachments": {
    "fituncertainties.png": {
     "image/png": "[encoded data removed]"
    }
   },
   "cell_type": "markdown",
   "id": "05fafdbe",
   "metadata": {},
   "source": [
    "![fituncertainties.png](attachment:fituncertainties.png)"
   ]
  },
  {
   "cell_type": "markdown",
   "id": "3ce36d3a",
   "metadata": {},
   "source": [
    "Now, of course, since I am only using this data in order to visualize it and help people understand it better (not for any scientific purpose), accuracy of measurement is not necessarily a requirement, but I have still tried to pick the data set (between moment & fit) that best represents what SWEAP is trying to measure."
   ]
  },
  {
   "cell_type": "code",
   "execution_count": null,
   "id": "efd0f180",
   "metadata": {},
   "outputs": [],
   "source": [
    "thermaldata = pd.DataFrame(spc_vars['psp_spc_wp_moment']['y'])\n",
    "print(f'Percent NaN: {thermaldata.isna().sum().sum() / thermaldata.size * 100:.3f}%')\n",
    "thermaldata.head()"
   ]
  },
  {
   "cell_type": "markdown",
   "id": "fdf0fc9d",
   "metadata": {},
   "source": [
    "### SPAN-e (electrons)"
   ]
  },
  {
   "cell_type": "markdown",
   "id": "0d54586b",
   "metadata": {},
   "source": [
    "#### spa_sf1_32e\n",
    "- this l2 datatype only represents the SPAN-A electron data (spb_sf1_32e contains SPAN-B data)"
   ]
  },
  {
   "cell_type": "code",
   "execution_count": null,
   "id": "2d8c70c4",
   "metadata": {
    "scrolled": true
   },
   "outputs": [],
   "source": [
    "import numpy as np\n",
    "from matplotlib import pyplot as plt\n",
    "import math\n",
    "import pyspedas\n",
    "from pytplot import tplot\n",
    "import pandas as pd\n",
    "\n",
    "spe_vars_tplot = pyspedas.psp.spe(trange=['2021-04-24', '2021-05-04'], datatype='spa_sf1_32e', level='l2', notplot=False, time_clip=False)\n",
    "print(spe_vars_tplot)\n",
    "tplot('psp_spe_EFLUX')"
   ]
  },
  {
   "cell_type": "markdown",
   "id": "e616006d",
   "metadata": {},
   "source": [
    "#### spe_sf0_pad\n",
    "- This l3 datatype represents the data of SPAN-A and SPAN-B combined\n",
    "- This is what I exported and used in the website"
   ]
  },
  {
   "cell_type": "code",
   "execution_count": null,
   "id": "c9677f71",
   "metadata": {
    "scrolled": false
   },
   "outputs": [],
   "source": [
    "import numpy as np\n",
    "from matplotlib import pyplot as plt\n",
    "import math\n",
    "import pyspedas\n",
    "from pytplot import tplot\n",
    "import pandas as pd\n",
    "\n",
    "spe_vars_tplot = pyspedas.psp.spe(trange=['2021-04-24', '2021-05-04'], datatype='spe_sf0_pad', level='l3', notplot=False, time_clip=False)\n",
    "print(spe_vars_tplot)\n",
    "tplot('psp_spe_EFLUX_VS_PHI')\n",
    "tplot('psp_spe_EFLUX_VS_ENERGY')"
   ]
  },
  {
   "cell_type": "code",
   "execution_count": null,
   "id": "f2781edd",
   "metadata": {
    "scrolled": false
   },
   "outputs": [],
   "source": [
    "spe_vars = pyspedas.psp.spe(trange=['2021-04-24', '2021-05-04'], datatype='spe_sf0_pad', level='l3', notplot=True, time_clip=False)"
   ]
  },
  {
   "cell_type": "code",
   "execution_count": null,
   "id": "8bf55bea",
   "metadata": {},
   "outputs": [],
   "source": [
    "efluxdata = pd.DataFrame(spe_vars['psp_spe_EFLUX_VS_ENERGY']['y'])\n",
    "print(f'Percent NaN: {efluxdata.isna().sum().sum() / efluxdata.size * 100:.3f}%')\n",
    "efluxdata.shape"
   ]
  },
  {
   "cell_type": "code",
   "execution_count": null,
   "id": "e41caf03",
   "metadata": {
    "scrolled": false
   },
   "outputs": [],
   "source": [
    "# Estimations of the average energies (eV) for the 32 different electron energy bins obtained from the graph above\n",
    "energy_bins = [2,2.6,3.3,4.2,5.1,6.1,7.9,9.9,12.5,15,19,24,29,36,45,56,70,88,112,133,175,212,257,333,400,490,600,780,950,1200,1500,1800]\n",
    "\n",
    "totalelectrons = []\n",
    "for row in spe_vars['psp_spe_EFLUX']['y']:\n",
    "    total = 0\n",
    "    for i in range(32):\n",
    "        total += row[i] / energy_bins[i]\n",
    "    totalelectrons.append(total)\n",
    "plt.plot(spe_vars['psp_spe_EFLUX']['x'], np.array(totalelectrons), label='Total Electrons')\n",
    "plt.legend()"
   ]
  },
  {
   "cell_type": "markdown",
   "id": "a6a1fd4a",
   "metadata": {},
   "source": [
    "### SPAN-i (ions)"
   ]
  },
  {
   "cell_type": "code",
   "execution_count": null,
   "id": "a4c87fa8",
   "metadata": {},
   "outputs": [],
   "source": [
    "spi_vars_tplot = pyspedas.psp.spi(trange=['2021-04-24', '2021-04-30'], datatype='spi_sf0a_mom_inst', level='l3', time_clip=False)\n",
    "print(spi_vars_tplot)\n",
    "tplot(['psp_spi_TEMP'])\n",
    "tplot(['psp_spi_DENS', 'psp_spi_VEL'])\n",
    "tplot(['psp_spi_EFLUX_VS_ENERGY'])\n",
    "#tplot(['psp_spi_MAGF_SC', 'psp_spi_MAGF_INST'])"
   ]
  },
  {
   "cell_type": "code",
   "execution_count": null,
   "id": "1f3704ca",
   "metadata": {
    "scrolled": true
   },
   "outputs": [],
   "source": [
    "spi_vars = pyspedas.psp.spi(trange=['2021-04-24', '2021-04-30'], datatype='spi_sf0a_mom_inst', level='l3', notplot=True, time_clip=False)"
   ]
  },
  {
   "cell_type": "code",
   "execution_count": null,
   "id": "a0db11e2",
   "metadata": {},
   "outputs": [],
   "source": [
    "spifluxdata = pd.DataFrame(spi_vars['psp_spi_EFLUX_VS_ENERGY']['y'])\n",
    "spifluxdata.shape"
   ]
  },
  {
   "cell_type": "code",
   "execution_count": null,
   "id": "0ca2bcb0",
   "metadata": {},
   "outputs": [],
   "source": [
    "spitempdata = pd.DataFrame(spi_vars['psp_spi_TEMP']['y'])\n",
    "print(f'Percent NaN: {spitempdata.isna().sum().sum() / spitempdata.size * 100:.3f}%')\n",
    "spitempdata.head()"
   ]
  },
  {
   "cell_type": "markdown",
   "id": "6bf48a89",
   "metadata": {},
   "source": [
    "### Spacecraft Position"
   ]
  },
  {
   "cell_type": "code",
   "execution_count": null,
   "id": "82f52477",
   "metadata": {},
   "outputs": [],
   "source": [
    "pos = spc_vars['psp_spc_sc_pos_HCI']['y']\n",
    "spc_vars['psp_spc_sc_pos_HCI']['y'][:,0]\n",
    "plt.plot(-spc_vars['psp_spc_sc_pos_HCI']['y'][:,0], spc_vars['psp_spc_sc_pos_HCI']['y'][:,1])\n",
    "dist = []\n",
    "for row in pos:\n",
    "    dist.append(math.sqrt(row[0]**2 + row[1]**2 + row[2]**2) / 149597870.7)"
   ]
  },
  {
   "cell_type": "code",
   "execution_count": null,
   "id": "ad910b43",
   "metadata": {},
   "outputs": [],
   "source": [
    "spc_vars['psp_spc_sc_pos_HCI']['y'][:,0]"
   ]
  },
  {
   "cell_type": "markdown",
   "id": "2fbcf9d8",
   "metadata": {},
   "source": [
    "### Spacecraft Velocity"
   ]
  },
  {
   "cell_type": "code",
   "execution_count": null,
   "id": "2ef58efb",
   "metadata": {},
   "outputs": [],
   "source": [
    "plt.plot(spc_vars['psp_spc_sc_vel_HCI']['x'], spc_vars['psp_spc_sc_vel_HCI']['y'])\n",
    "velocityvectors = spc_vars['psp_spc_sc_vel_HCI']['y']\n",
    "pspvelocity = []\n",
    "for row in velocityvectors:\n",
    "    pspvelocity.append(math.sqrt(row[0]**2 + row[1]**2 + row[2]**2))\n",
    "plt.plot(spc_vars['psp_spc_sc_vel_HCI']['x'], np.array(pspvelocity), label=\"Total Velocity\")\n",
    "plt.legend()"
   ]
  },
  {
   "cell_type": "markdown",
   "id": "4ff4f2b4",
   "metadata": {},
   "source": [
    "## SPC Data Processing"
   ]
  },
  {
   "cell_type": "code",
   "execution_count": null,
   "id": "cac43026",
   "metadata": {
    "scrolled": true
   },
   "outputs": [],
   "source": [
    "# Checking the percent NaN values\n",
    "from datetime import datetime\n",
    "import numpy as np\n",
    "from matplotlib import pyplot as plt\n",
    "import math\n",
    "import pyspedas\n",
    "from pytplot import tplot\n",
    "import pandas as pd\n",
    "\n",
    "m = 1.67262192 * 10**(-27) # Mass of a proton (kg)\n",
    "k = 1.380649 * 10**(-23) # Boltzmann constant (J/K)\n",
    "for orbit in range(STARTORBITS, NUMORBITS+1):\n",
    "    print(f\"- - ORBIT {orbit} - -\")\n",
    "    spc_vars = pyspedas.psp.spc(trange=orbit_dates[orbit-1], datatype='l3i', level='l3', get_support_data=True, notplot=True, no_update=False)\n",
    "    # Velocity\n",
    "    t1 = spc_vars['psp_spc_vp_moment_RTN']['x']\n",
    "    v1 = spc_vars['psp_spc_vp_moment_RTN']['y']\n",
    "    velocities1 = []\n",
    "    for row in v1:\n",
    "        total = 0\n",
    "        for dir in row:\n",
    "            if np.isnan(dir):\n",
    "                continue\n",
    "            total += dir**2\n",
    "        total = math.sqrt(total)\n",
    "        if total==0:\n",
    "            total = row[0]\n",
    "        velocities1.append(total)\n",
    "    velodata = pd.DataFrame(np.array(velocities1))\n",
    "    print(f'Velocity % NaN: {velodata.isna().sum().sum() / velodata.size * 100:.3f}%')\n",
    "    # Density\n",
    "    densitydata = pd.DataFrame(spc_vars['psp_spc_np_moment']['y'])\n",
    "    print(f'Density % NaN: {densitydata.isna().sum().sum() / densitydata.size * 100:.3f}%')\n",
    "    # Temperature\n",
    "    thermaldata = pd.DataFrame(spc_vars['psp_spc_wp_moment']['y'])\n",
    "    print(f'Temperature % NaN: {thermaldata.isna().sum().sum() / thermaldata.size * 100:.3f}%')\n",
    "    # Spacecraft Velocity\n",
    "    velocityvectors = spc_vars['psp_spc_sc_vel_HCI']['y']\n",
    "    pspvelocity = []\n",
    "    for row in velocityvectors:\n",
    "        pspvelocity.append(math.sqrt(row[0]**2 + row[1]**2 + row[2]**2))\n",
    "    pspvelodata = pd.DataFrame(np.array(pspvelocity))\n",
    "    print(f'PSP Velocity % NaN: {pspvelodata.isna().sum().sum() / pspvelodata.size * 100:.3f}%')"
   ]
  },
  {
   "cell_type": "code",
   "execution_count": null,
   "id": "c6cf5811",
   "metadata": {},
   "outputs": [],
   "source": [
    "# Processing data and exporting text files\n",
    "from datetime import datetime\n",
    "import numpy as np\n",
    "from matplotlib import pyplot as plt\n",
    "import math\n",
    "import pyspedas\n",
    "from pytplot import tplot\n",
    "import pandas as pd\n",
    "\n",
    "m = 1.67262192 * 10**(-27) # Mass of a proton (kg)\n",
    "k = 1.380649 * 10**(-23) # Boltzmann constant (J/K)\n",
    "for orbit in range(STARTORBITS, NUMORBITS+1):\n",
    "    spc_vars = pyspedas.psp.spc(trange=orbit_dates[orbit-1], datatype='l3i', level='l3', get_support_data=True, notplot=True, no_update=False)\n",
    "    # Velocity\n",
    "    t1 = spc_vars['psp_spc_vp_moment_RTN']['x']\n",
    "    v1 = spc_vars['psp_spc_vp_moment_RTN']['y']\n",
    "    velocities1 = []\n",
    "    for row in v1:\n",
    "        total = 0\n",
    "        for dir in row:\n",
    "            if np.isnan(dir):\n",
    "                continue\n",
    "            total += dir**2\n",
    "        total = math.sqrt(total)\n",
    "        if total==0:\n",
    "            total = row[0]\n",
    "        velocities1.append(total)\n",
    "    # Position\n",
    "    pos = spc_vars['psp_spc_sc_pos_HCI']['y']\n",
    "    dist = []\n",
    "    for row in pos:\n",
    "        dist.append(math.sqrt(row[0]**2 + row[1]**2 + row[2]**2) / 149597870.7)\n",
    "    # Spacecraft Velocity\n",
    "    velocityvectors = spc_vars['psp_spc_sc_vel_HCI']['y']\n",
    "    pspvelocity = []\n",
    "    for row in velocityvectors:\n",
    "        pspvelocity.append(math.sqrt(row[0]**2 + row[1]**2 + row[2]**2))\n",
    "    with open(f\"sweap_data/sweap_txt_data/spc_orbit{orbit}.txt\", 'w') as output:\n",
    "        for i in range(1, t1.shape[0]):\n",
    "            outstring = \"\"\n",
    "            n = i\n",
    "            if t1[i].minute != t1[i-1].minute : #if t1[i].minute - t1[i-1].minute != 1 and t1[i].minute != 0:\n",
    "                # Date\n",
    "                outstring += t1[i].strftime('%Y%m%d_%H%M') + \", \"\n",
    "                # Velocity (km/s)\n",
    "                while np.isnan(velocities1[n]):\n",
    "                    n += 1\n",
    "                outstring += f\"{velocities1[n]}, \"\n",
    "                n = i\n",
    "                # Density (1/cm^2)\n",
    "                while np.isnan(spc_vars['psp_spc_np_moment']['y'][n]):\n",
    "                    n += 1\n",
    "                outstring += f\"{spc_vars['psp_spc_np_moment']['y'][n]}, \"\n",
    "                n = i\n",
    "                # Temperature (K)\n",
    "                while np.isnan(spc_vars['psp_spc_wp_moment']['y'][n]):\n",
    "                    n += 1\n",
    "                tv = spc_vars['psp_spc_wp_moment']['y'][n]\n",
    "                outstring += f\"{(m*(tv*1000)**2 / (2*k))}, \"\n",
    "                n = i\n",
    "                # X-coordinate (km)\n",
    "                outstring += f\"{spc_vars['psp_spc_sc_pos_HCI']['y'][n][0]}, \"\n",
    "                # Y-coordinate (km)\n",
    "                outstring += f\"{spc_vars['psp_spc_sc_pos_HCI']['y'][n][1]}, \"\n",
    "                # Distance (km)\n",
    "                outstring += f\"{dist[i]}, \"\n",
    "                # Spacecraft Velocity (km/s)\n",
    "                outstring += f\"{pspvelocity[n]}\"\n",
    "                output.write(outstring + \"\\n\")"
   ]
  },
  {
   "cell_type": "code",
   "execution_count": null,
   "id": "d7856da8",
   "metadata": {
    "scrolled": true
   },
   "outputs": [],
   "source": [
    "# Creating the location plots for the position display\n",
    "\n",
    "for highlight in range(NUMORBITS):\n",
    "    plt.figure(figsize=(10, 10), dpi=200)\n",
    "    plt.xlim([-4.4e7, 4e7])\n",
    "    plt.ylim([-4.7e7, 3.7e7])\n",
    "    for ORB in range(NUMORBITS):\n",
    "        # Loads orbit data\n",
    "        spc_vars = pyspedas.psp.spc(trange=orbit_dates[ORB], datatype='l3i', level='l3', varnames = ['sc_pos_HCI'], notplot=True, no_update=False)\n",
    "        plt.scatter(spc_vars['psp_spc_sc_pos_HCI']['y'][:,0], spc_vars['psp_spc_sc_pos_HCI']['y'][:,1], s=2, c = '#7d3d00')\n",
    "    # Graphs highlighted orbit on top\n",
    "    spc_vars = pyspedas.psp.spc(trange=orbit_dates[highlight], datatype='l3i', level='l3', varnames = ['sc_pos_HCI'], notplot=True, no_update=False)\n",
    "    plt.scatter(spc_vars['psp_spc_sc_pos_HCI']['y'][:,0], spc_vars['psp_spc_sc_pos_HCI']['y'][:,1], s=8, c = '#ff7b00')\n",
    "    plt.scatter(np.array([0]), np.array([0]), s=5, c = '#ff7b00')\n",
    "    plt.savefig(f'public/orbit_plot2_{highlight+1}.png', transparent = True)"
   ]
  },
  {
   "cell_type": "markdown",
   "id": "98ed067e",
   "metadata": {},
   "source": [
    "## SPAN-e Data Processing"
   ]
  },
  {
   "cell_type": "code",
   "execution_count": null,
   "id": "42774d8d",
   "metadata": {
    "scrolled": true
   },
   "outputs": [],
   "source": [
    "# Processing SWEAP-e data and exporting text files\n",
    "from datetime import datetime\n",
    "import numpy as np\n",
    "from matplotlib import pyplot as plt\n",
    "import math\n",
    "import pyspedas\n",
    "from pytplot import tplot\n",
    "import pandas as pd\n",
    "\n",
    "# Estimations of the average energies (eV) for the 32 different electron energy bins obtained from the graph above\n",
    "energy_bins = [2,2.6,3.3,4.2,5.1,6.1,7.9,9.9,12.5,15,19,24,29,36,45,56,70,88,112,133,175,212,257,333,400,490,600,780,950,1200,1500,1800]\n",
    "\n",
    "for orbit in range(STARTORBITS, NUMORBITS+1):\n",
    "    spe_vars = pyspedas.psp.spe(trange=orbit_dates[orbit-1], datatype='spe_sf0_pad', level='l3', notplot=True, time_clip=False)\n",
    "    t2 = spe_vars['psp_spe_EFLUX_VS_ENERGY']['x']\n",
    "    with open(f\"sweap_data/sweap_txt_data/spane_orbit{orbit}.txt\", 'w') as output:\n",
    "        for i in range(1, t2.shape[0]):\n",
    "            outstring = \"\"\n",
    "            n = i\n",
    "            if t2[i].minute != t2[i-1].minute : #if t1[i].minute - t1[i-1].minute != 1 and t1[i].minute != 0:\n",
    "                # Date\n",
    "                outstring += t2[i].strftime('%Y%m%d_%H%M') + \", \"\n",
    "                # Electron Energies \n",
    "                for j in range(32):\n",
    "                    energyval = spe_vars['psp_spe_EFLUX_VS_ENERGY']['y'][i][j]\n",
    "                    outstring += f\"{energyval:.1f}\"\n",
    "                    if j != 32:\n",
    "                        outstring += f\", \"\n",
    "                output.write(outstring + \"\\n\")"
   ]
  },
  {
   "cell_type": "code",
   "execution_count": null,
   "id": "75dffa04",
   "metadata": {},
   "outputs": [],
   "source": [
    "# Estimations of the average energies (eV) for the 32 different electron energy bins obtained from the graph above\n",
    "energy_bins = [2,2.6,3.3,4.2,5.1,6.1,7.9,9.9,12.5,15,19,24,29,36,45,56,70,88,112,133,175,212,257,333,400,490,600,780,950,1200,1500,1800]\n",
    "\n",
    "totalelectrons = []\n",
    "for row in spe_vars['psp_spe_EFLUX']['y']:\n",
    "    total = 0\n",
    "    for i in range(32):\n",
    "        total += row[i] / energy_bins[i]\n",
    "    totalelectrons.append(total)\n",
    "plt.plot(spe_vars['psp_spe_EFLUX']['x'], np.array(totalelectrons), label='Total Electrons')\n",
    "plt.legend()"
   ]
  },
  {
   "cell_type": "code",
   "execution_count": null,
   "id": "fa1d2936",
   "metadata": {},
   "outputs": [],
   "source": [
    "efluxdata = pd.DataFrame(spe_vars['psp_spe_EFLUX']['y'])\n",
    "print(f'Percent NaN: {efluxdata.isna().sum().sum() / efluxdata.size * 100:.3f}%')"
   ]
  },
  {
   "cell_type": "markdown",
   "id": "3a3a59ea",
   "metadata": {},
   "source": [
    "## SPAN-i Data Processing"
   ]
  },
  {
   "cell_type": "code",
   "execution_count": null,
   "id": "5a896a8f",
   "metadata": {},
   "outputs": [],
   "source": [
    "# Visualizing and analyzing SPAN-i data with pyspedas\n",
    "import numpy as np\n",
    "from matplotlib import pyplot as plt\n",
    "import math\n",
    "import pyspedas\n",
    "from pytplot import tplot\n",
    "spani_vars_tplot = pyspedas.psp.spi(trange=orbit_dates[13], datatype='spi_sf0a_mom_inst', level='l3', notplot=False, time_clip=False) # 'spi_sf0a_l3_mom'\n",
    "print(spani_vars_tplot)\n",
    "tplot(['psp_spi_VEL'])\n",
    "tplot(['psp_spi_DENS'])\n",
    "tplot(['psp_spi_TEMP'])"
   ]
  },
  {
   "cell_type": "code",
   "execution_count": null,
   "id": "f43b465d",
   "metadata": {
    "scrolled": true
   },
   "outputs": [],
   "source": [
    "# Processing data and exporting text files (data only available for orbits 2-8)\n",
    "from datetime import datetime\n",
    "import numpy as np\n",
    "from matplotlib import pyplot as plt\n",
    "import math\n",
    "import pyspedas\n",
    "from pytplot import tplot\n",
    "import pandas as pd\n",
    "\n",
    "for orbit in range(2,NUMORBITS+1):\n",
    "    print(f\"orbit {orbit}\")\n",
    "    if orbit <= 8 and orbit >= 2:\n",
    "        spi_vars = pyspedas.psp.spi(trange=orbit_dates[orbit-1], datatype='spi_sf0a_mom_inst', level='l3', notplot=True, time_clip=False)\n",
    "        velocity_type = 'psp_spi_VEL'\n",
    "    else:\n",
    "        spi_vars = pyspedas.psp.spi(trange=orbit_dates[orbit-1], datatype='spi_sf0a_l3_mom', level='l3', notplot=True, time_clip=False)\n",
    "        velocity_type = 'psp_spi_VEL_INST'\n",
    "    # Velocity\n",
    "    t1 = spi_vars[velocity_type]['x']\n",
    "    v1 = spi_vars[velocity_type]['y']\n",
    "    velocities2 = []\n",
    "    for row in v1:\n",
    "        total = 0\n",
    "        for dir in row:\n",
    "            if np.isnan(dir):\n",
    "                continue\n",
    "            total += dir**2\n",
    "        total = math.sqrt(total)\n",
    "        if total==0:\n",
    "            total = row[0]\n",
    "        velocities2.append(total)\n",
    "    with open(f\"sweap_data/sweap_txt_data/spani_orbit{orbit}.txt\", 'w') as output:\n",
    "        for i in range(1, t1.shape[0]):\n",
    "            outstring = \"\"\n",
    "            n = i\n",
    "            if t1[i].minute != t1[i-1].minute : #if t1[i].minute - t1[i-1].minute != 1 and t1[i].minute != 0:\n",
    "                # Date\n",
    "                outstring += t1[i].strftime('%Y%m%d_%H%M') + \", \"\n",
    "                # Velocity (km/s)\n",
    "                while np.isnan(velocities2[n]) and n < len(velocities2)-1:\n",
    "                    n += 1\n",
    "                outstring += f\"{velocities2[n]:.5f}, \"\n",
    "                n = i\n",
    "                # Density (1/cm^3)\n",
    "                while (np.isnan(spi_vars['psp_spi_DENS']['y'][n]) or spi_vars['psp_spi_DENS']['y'][n] < 0.01) and n < len(velocities2)-1:\n",
    "                    n += 1\n",
    "                outstring += f\"{spi_vars['psp_spi_DENS']['y'][n]}, \"\n",
    "                n = i\n",
    "                # Temperature (K)\n",
    "                while np.isnan(spi_vars['psp_spi_TEMP']['y'][n]) and n < len(velocities2)-1:\n",
    "                    n += 1\n",
    "                tv = spi_vars['psp_spi_TEMP']['y'][n]\n",
    "                outstring += f\"{tv * 11604.51812:.3f}\" # converting from eV to Kelvin\n",
    "                n = i\n",
    "                output.write(outstring + \"\\n\")"
   ]
  },
  {
   "cell_type": "code",
   "execution_count": null,
   "id": "47a4cc78",
   "metadata": {
    "scrolled": true
   },
   "outputs": [],
   "source": [
    "print(\"['psp_spi_QUALITY_FLAG', 'psp_spi_DENS', 'psp_spi_VEL', 'psp_spi_T_TENSOR', 'psp_spi_TEMP', 'psp_spi_EFLUX_VS_ENERGY', 'psp_spi_EFLUX_VS_THETA', 'psp_spi_EFLUX_VS_PHI', 'psp_spi_MAGF_SC', 'psp_spi_MAGF_INST']\")"
   ]
  },
  {
   "cell_type": "markdown",
   "id": "64bc5d6a",
   "metadata": {},
   "source": [
    "# FIELDS\n",
    "- https://fields.ssl.berkeley.edu/data/"
   ]
  },
  {
   "cell_type": "markdown",
   "id": "edccb875",
   "metadata": {},
   "source": [
    "Valid options (taken from pySPEDAS docs):\n",
    "‘mag_RTN’, ‘mag_RTN_1min’, ‘mag_rtn_4_per_cycle’, (SPDF only) ‘mag_RTN_4_Sa_per_Cyc’ ‘mag_SC’ ‘mag_SC_1min’ ‘mag_sc_4_per_cycle’ (SPDF only) ‘mag_SC_4_Sa_per_Cyc’ ‘mag_VSO’ (limited dates) ‘rfs_burst’ (limited dates) ‘rfs_hfr’, ‘rfs_lfr’ ‘f2_100bps’ ‘dfb_dc_spec’ ‘dfb_ac_spec’ ‘dfb_dc_xspec’ ‘dfb_ac_xspec’ ‘merged_scam_wf’ ‘sqtn_rfs_V1V2’"
   ]
  },
  {
   "cell_type": "markdown",
   "id": "405e3b4b",
   "metadata": {},
   "source": [
    "### Data Pre-Visualization"
   ]
  },
  {
   "cell_type": "code",
   "execution_count": null,
   "id": "a3eaf5c8",
   "metadata": {
    "scrolled": true
   },
   "outputs": [],
   "source": [
    "import pyspedas\n",
    "from pytplot import tplot\n",
    "\n",
    "fields_vars_tplot = pyspedas.psp.fields(trange=['2018-11-5', '2018-11-6'], datatype='mag_rtn', level='l2', time_clip=False)\n",
    "tplot('psp_fld_l2_mag_RTN')"
   ]
  },
  {
   "cell_type": "code",
   "execution_count": null,
   "id": "e2815a29",
   "metadata": {
    "scrolled": true
   },
   "outputs": [],
   "source": [
    "import pyspedas\n",
    "from pytplot import tplot\n",
    "\n",
    "fields_vars_tplot = pyspedas.psp.fields(trange=['2020-06-12', '2020-06-13'], datatype='sqtn_rfs_v1v2', level='l3', time_clip=False)\n",
    "print(fields_vars_tplot)\n",
    "tplot('electron_density')\n",
    "tplot('electron_core_temperature')\n",
    "tplot('electron_density_delta')"
   ]
  },
  {
   "cell_type": "code",
   "execution_count": null,
   "id": "75dd4eb0",
   "metadata": {
    "scrolled": true
   },
   "outputs": [],
   "source": [
    "import pyspedas\n",
    "from pytplot import tplot\n",
    "\n",
    "fields_vars_tplot = pyspedas.psp.fields(trange=['2020-06-12', '2020-06-13'], datatype='dfb_dc_spec_dV12hg', level='l2', time_clip=False)\n",
    "print(fields_vars_tplot)\n",
    "tplot('psp_fld_l2_dfb_dc_spec_dV12hg')"
   ]
  },
  {
   "cell_type": "code",
   "execution_count": null,
   "id": "0331b215",
   "metadata": {
    "scrolled": true
   },
   "outputs": [],
   "source": [
    "import pyspedas\n",
    "from pytplot import tplot\n",
    "\n",
    "fields_vars_tplot = pyspedas.psp.fields(trange=['2020-06-12', '2020-06-13'], datatype='dfb_ac_spec', level='l2', time_clip=False)\n",
    "print(fields_vars_tplot)\n",
    "for var in ['psp_fld_l2_dfb_ac_spec_dV12hg', 'psp_fld_l2_dfb_ac_spec_dV34hg', 'psp_fld_l2_dfb_ac_spec_V5hg']:\n",
    "    tplot(var)"
   ]
  },
  {
   "cell_type": "markdown",
   "id": "7e3bbc30",
   "metadata": {},
   "source": [
    "### Data Analyzing"
   ]
  },
  {
   "cell_type": "markdown",
   "id": "b6850450",
   "metadata": {},
   "source": [
    "##### mag_rtn"
   ]
  },
  {
   "cell_type": "code",
   "execution_count": null,
   "id": "39eb2843",
   "metadata": {
    "scrolled": false
   },
   "outputs": [],
   "source": [
    "import pyspedas\n",
    "from pytplot import tplot\n",
    "mag_var = pyspedas.psp.fields(trange=['2018-11-5', '2018-11-6'], datatype='mag_rtn', level='l2', notplot=True, time_clip=False)\n",
    "print(mag_var)"
   ]
  },
  {
   "cell_type": "code",
   "execution_count": null,
   "id": "c9d71b8d",
   "metadata": {},
   "outputs": [],
   "source": [
    "import pandas as pd\n",
    "magdata = pd.DataFrame(mag_var['psp_fld_l2_mag_RTN']['y'])\n",
    "print(f'Percent NaN: {magdata.isna().sum().sum() / magdata.size * 100:.3f}%')\n",
    "magdata.head()"
   ]
  },
  {
   "cell_type": "markdown",
   "id": "117e3f59",
   "metadata": {},
   "source": [
    "##### dfb_dc_spec_dV12hg"
   ]
  },
  {
   "cell_type": "code",
   "execution_count": null,
   "id": "f164988a",
   "metadata": {},
   "outputs": [],
   "source": [
    "import pyspedas\n",
    "from pytplot import tplot\n",
    "dc_var = pyspedas.psp.fields(trange=['2020-06-12', '2020-06-13'], datatype='dfb_dc_spec_dV12hg', level='l2', notplot=True, time_clip=False)\n",
    "print(dc_var)"
   ]
  },
  {
   "cell_type": "code",
   "execution_count": null,
   "id": "8a0fe8d2",
   "metadata": {},
   "outputs": [],
   "source": [
    "import pandas as pd\n",
    "dcdata = pd.DataFrame(dc_var['psp_fld_l2_dfb_dc_spec_dV12hg']['y'])\n",
    "print(f'Percent NaN: {dcdata.isna().sum().sum() / dcdata.size * 100:.3f}%')\n",
    "dcdata.head()"
   ]
  },
  {
   "cell_type": "markdown",
   "id": "ec5134f2",
   "metadata": {},
   "source": [
    "##### dfb_ac_spec_dV12hg"
   ]
  },
  {
   "cell_type": "code",
   "execution_count": null,
   "id": "28e91ae2",
   "metadata": {
    "scrolled": false
   },
   "outputs": [],
   "source": [
    "import pyspedas\n",
    "from pytplot import tplot\n",
    "ac_var = pyspedas.psp.fields(trange=['2020-06-12', '2020-06-13'], datatype='dfb_ac_spec_dV12hg', level='l2', notplot=True, time_clip=False)\n",
    "print(ac_var)"
   ]
  },
  {
   "cell_type": "code",
   "execution_count": null,
   "id": "e0acdade",
   "metadata": {},
   "outputs": [],
   "source": [
    "import pandas as pd\n",
    "acdata = pd.DataFrame(ac_var['psp_fld_l2_dfb_ac_spec_dV12hg']['y'])\n",
    "print(f'Percent NaN: {acdata.isna().sum().sum() / acdata.size * 100:.3f}%')\n",
    "acdata.head()"
   ]
  },
  {
   "cell_type": "markdown",
   "id": "113f1802",
   "metadata": {},
   "source": [
    "### FIELDS Data Processing"
   ]
  },
  {
   "cell_type": "code",
   "execution_count": null,
   "id": "b9f0ce73",
   "metadata": {
    "scrolled": true
   },
   "outputs": [],
   "source": [
    "# Processing FIELDS data and exporting text files\n",
    "from datetime import datetime, timedelta\n",
    "import numpy as np\n",
    "from matplotlib import pyplot as plt\n",
    "import math\n",
    "import pyspedas\n",
    "from pytplot import tplot\n",
    "import pandas as pd\n",
    "\n",
    "orbit_dates = [\n",
    "['18-11-01', '18-11-11'],\n",
    "['19-03-30', '19-04-10'],\n",
    "['19-08-27', '19-09-07'],\n",
    "['20-01-23', '20-02-04'],\n",
    "['20-06-01', '20-06-13'],\n",
    "['20-09-21', '20-10-02'],\n",
    "['21-01-12', '21-01-23'],\n",
    "['21-04-24', '21-05-04'],\n",
    "['21-08-04', '21-08-15'],\n",
    "['21-11-16', '21-11-26'],\n",
    "['22-02-20', '22-03-02'],\n",
    "['22-05-27', '22-06-07'],\n",
    "['22-09-01', '22-09-11'], \n",
    "['22-12-06', '22-12-16'], \n",
    "['23-03-12', '23-03-23']\n",
    "]\n",
    "\n",
    "for orbit in range(STARTORBITS, NUMORBITS+1):\n",
    "    start = datetime.strptime(orbit_dates[orbit-1][0], '%y-%m-%d')\n",
    "    end = datetime.strptime(orbit_dates[orbit-1][1], '%y-%m-%d')\n",
    "    ndays = (end - start).days\n",
    "    for day in range(ndays):\n",
    "        mag_var = pyspedas.psp.fields(trange=[start.strftime('%Y-%m-%d'), (start+timedelta(days=1)).strftime('%Y-%m-%d')], datatype='mag_rtn', level='l2', notplot=True, time_clip=False)\n",
    "        dc_var = pyspedas.psp.fields(trange=[start.strftime('%Y-%m-%d'), (start+timedelta(days=1)).strftime('%Y-%m-%d')], datatype='dfb_dc_spec_dV12hg', level='l2', notplot=True, time_clip=False)\n",
    "        ac_var = pyspedas.psp.fields(trange=[start.strftime('%Y-%m-%d'), (start+timedelta(days=1)).strftime('%Y-%m-%d')], datatype='dfb_ac_spec_dV12hg', level='l2', notplot=True, time_clip=False)\n",
    "        print([start.strftime('%Y-%m-%d'), (start+timedelta(days=1)).strftime('%Y-%m-%d')])\n",
    "        t = dc_var['psp_fld_l2_dfb_dc_spec_dV12hg']['x']\n",
    "        with open(f\"fields_data/fields_txt_data/fields_orbit{orbit}.txt\", 'a') as output:\n",
    "            for i in range(1, t.shape[0]):\n",
    "                outstring = \"\"\n",
    "                n = i\n",
    "                if t[i].minute != t[i-1].minute : #if t1[i].minute - t1[i-1].minute != 1 and t1[i].minute != 0:\n",
    "                    # Date\n",
    "                    outstring += t[i].strftime('%Y%m%d_%H%M') + \", \"\n",
    "                    # Magnetic Field\n",
    "                    for j in range(3):\n",
    "                        magval = mag_var['psp_fld_l2_mag_RTN']['y'][i][j]\n",
    "                        outstring += f\"{magval:.1f}, \"\n",
    "                    # DC Spectra\n",
    "                    for j in range(54):\n",
    "                        outstring += f\"{dc_var['psp_fld_l2_dfb_dc_spec_dV12hg']['y'][i][j]*10**12:.2f}, \"\n",
    "                    # AC Spectra\n",
    "                    for j in range(53):\n",
    "                        outstring += f\"{ac_var['psp_fld_l2_dfb_ac_spec_dV12hg']['y'][i][j]*10**12:.2f}, \"\n",
    "                    outstring += f\"{ac_var['psp_fld_l2_dfb_ac_spec_dV12hg']['y'][i][53]*10**12:.2f}\"\n",
    "                    output.write(outstring + \"\\n\")\n",
    "        start += timedelta(days=1)"
   ]
  }
 ],
 "metadata": {
  "kernelspec": {
   "display_name": "Python 3 (ipykernel)",
   "language": "python",
   "name": "python3"
  },
  "language_info": {
   "codemirror_mode": {
    "name": "ipython",
    "version": 3
   },
   "file_extension": ".py",
   "mimetype": "text/x-python",
   "name": "python",
   "nbconvert_exporter": "python",
   "pygments_lexer": "ipython3",
   "version": "3.10.7"
  },
  "vscode": {
   "interpreter": {
    "hash": "8fcf3475a332883bf6082ebff143849778e040012e7bb7246f1edc02281888ff"
   }
  }
 },
 "nbformat": 4,
 "nbformat_minor": 5
}
